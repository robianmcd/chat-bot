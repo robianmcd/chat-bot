{
 "cells": [
  {
   "cell_type": "markdown",
   "metadata": {},
   "source": [
    "## Experiments / Todos:\n",
    " - share the embedding layer between encoder and decoder\n",
    " - graph loss vs. validation loss\n",
    " - use a pretrained vocabulary/embedding vectors\n",
    "     - get glov vector for each word in vocab\n",
    "     - feed vectors into embedding layer weights\n",
    "     - use embedding layer or just send word vectors directly into GRU layer\n",
    " - use dropout\n",
    " - more epochs\n",
    " - Deeper network\n",
    " - try outputting embedding vector\n",
    "     - Either use glov and disable training or train embedding seperately from the rest of the network.\n",
    "     - would need find the closest word vector: https://stackoverflow.com/questions/32446703/find-closest-vector-from-a-list-of-vectors-python\n",
    " - try outputting encoded characters\n",
    " - add special tokens for: start of string, and unknown token\n",
    " - Run on GPU (oculus machine?)\n",
    " - gracefully handel words not in the vocab\n",
    " - try lstm\n",
    " - use characters instead of words\n",
    " \n",
    "## Resources\n",
    " - https://blog.keras.io/a-ten-minute-introduction-to-sequence-to-sequence-learning-in-keras.html\n",
    " - https://machinelearningmastery.com/define-encoder-decoder-sequence-sequence-model-neural-machine-translation-keras/\n",
    " - http://colah.github.io/posts/2015-08-Understanding-LSTMs/\n",
    " - https://github.com/oswaldoludwig/Seq2seq-Chatbot-for-Keras"
   ]
  },
  {
   "cell_type": "code",
   "execution_count": 1,
   "metadata": {},
   "outputs": [],
   "source": [
    "################################################\n",
    "#################### Util ######################\n",
    "################################################\n",
    "import pickle\n",
    "from collections import OrderedDict\n",
    "from nltk.tokenize.casual import TweetTokenizer\n",
    "import re\n",
    "\n",
    "def get_vocab():\n",
    "    try:\n",
    "        with open('vocab.pickle', 'rb') as handle:\n",
    "            return pickle.load(handle)\n",
    "    except FileNotFoundError:\n",
    "        vocab = OrderedDict()\n",
    "        vocab['end of string'] = 0\n",
    "        return vocab\n",
    "    \n",
    "tknzr = TweetTokenizer(reduce_len=True)\n",
    "def tokenize(str):\n",
    "    str = re.sub(r'(:[\\w_]+:)', r'<\\1>', str)\n",
    "    return tknzr.tokenize(str)\n"
   ]
  },
  {
   "cell_type": "code",
   "execution_count": 2,
   "metadata": {
    "scrolled": true
   },
   "outputs": [
    {
     "name": "stdout",
     "output_type": "stream",
     "text": [
      "75480 words in vocab\n"
     ]
    }
   ],
   "source": [
    "################################################\n",
    "################ Build Vocab ###################\n",
    "################################################\n",
    "input_files = ['cornell-movie-dialogs-corpus\\movie_responses.txt', 'cornell-movie-dialogs-corpus\\movie_context.txt'];\n",
    "\n",
    "vocab = get_vocab()\n",
    "\n",
    "for file_path in input_files:\n",
    "    with open(file_path, encoding='utf8') as file:\n",
    "        for line in file:\n",
    "            tokens = tokenize(line)\n",
    "\n",
    "            for token in tokens:\n",
    "                if not (token in vocab):\n",
    "                    vocab[token] = len(vocab)\n",
    "                    \n",
    "with open('vocab.pickle', 'wb') as file:\n",
    "    pickle.dump(vocab, file, protocol=pickle.HIGHEST_PROTOCOL)\n",
    "    print('{0} words in vocab'.format(len(vocab)))"
   ]
  },
  {
   "cell_type": "code",
   "execution_count": 9,
   "metadata": {},
   "outputs": [
    {
     "name": "stdout",
     "output_type": "stream",
     "text": [
      "Encoded \"cornell-movie-dialogs-corpus\\movie_responses.txt\" to \"cornell-movie-dialogs-corpus\\movie_responses.encoded.txt\".\n",
      "Encoded \"cornell-movie-dialogs-corpus\\movie_context.txt\" to \"cornell-movie-dialogs-corpus\\movie_context.encoded.txt\".\n"
     ]
    }
   ],
   "source": [
    "################################################\n",
    "################ encode words ##################\n",
    "################################################\n",
    "import os\n",
    "\n",
    "input_files = ['cornell-movie-dialogs-corpus\\movie_responses.txt', 'cornell-movie-dialogs-corpus\\movie_context.txt'];\n",
    "\n",
    "vocab = get_vocab()\n",
    "\n",
    "for file_path in input_files:\n",
    "    file_name, ext = os.path.splitext(file_path)\n",
    "    \n",
    "    with open(file_path, encoding='utf8') as input_file:\n",
    "        output_file_path = file_name + '.encoded' + ext\n",
    "        with open(output_file_path, 'w') as output_file:\n",
    "            max_tokens = 0\n",
    "            for line in input_file:\n",
    "                max_tokens = max(max_tokens, len(tokenize(line)))\n",
    "            input_file.seek(0)\n",
    "            \n",
    "            max_tokens = min(200, max_tokens)\n",
    "            \n",
    "            for line in input_file:\n",
    "                encoded_tokens = [str(vocab[token]) for token in tokenize(line)[:200]]\n",
    "                encoded_tokens += ['0'] * (max_tokens - len(encoded_tokens))\n",
    "                output_file.write(' '.join(encoded_tokens) + '\\n')\n",
    "            print('Encoded \"{0}\" to \"{1}\".'.format(file_path, output_file_path))"
   ]
  },
  {
   "cell_type": "code",
   "execution_count": null,
   "metadata": {
    "scrolled": false
   },
   "outputs": [
    {
     "name": "stderr",
     "output_type": "stream",
     "text": [
      "Using TensorFlow backend.\n"
     ]
    },
    {
     "name": "stdout",
     "output_type": "stream",
     "text": [
      "Epoch 1/5\n",
      "    9/27702 [..............................] - ETA: 199:08:43 - loss: 10.2742"
     ]
    }
   ],
   "source": [
    "################################################\n",
    "################# train model ##################\n",
    "################################################\n",
    "import numpy as np\n",
    "from keras.models import Model\n",
    "from keras.layers import Input, GRU, Dense, Embedding\n",
    "from keras.utils import to_categorical\n",
    "import pickle\n",
    "\n",
    "vocab = get_vocab()\n",
    "\n",
    "model_input_file = 'cornell-movie-dialogs-corpus\\movie_responses.encoded.txt'\n",
    "model_output_file = 'cornell-movie-dialogs-corpus\\movie_context.encoded.txt'\n",
    "THOUGHT_VECTOR_SIZE = 100\n",
    "\n",
    "encoder_input_data = np.loadtxt(model_input_file)\n",
    "decoder_target_data = np.loadtxt(model_output_file)\n",
    "decoder_input_data = decoder_target_data[:, :-1]\n",
    "decoder_input_data = np.insert(decoder_input_data, 0, values=0, axis=1)\n",
    "#decoder_target_one_hot = to_categorical(decoder_target_data, len(vocab))\n",
    "\n",
    "def generateData(batch_size):\n",
    "    for i in range(len(decoder_input_data)):\n",
    "        for j in range(batch_size):\n",
    "            encoder_input_batch = encoder_input_data[i:i+batch_size]\n",
    "            decoder_input_batch = decoder_input_data[i:i+batch_size]\n",
    "            decoder_target_one_hot_batch = to_categorical(decoder_target_data[i:i+batch_size], len(vocab))\n",
    "            #print(encoder_input_data.shape, decoder_input_batch.shape, decoder_target_one_hot_batch.shape)\n",
    "            yield ([encoder_input_batch, decoder_input_batch], decoder_target_one_hot_batch)\n",
    "\n",
    "\n",
    "#Create layers\n",
    "encoder_input_layer = Input(shape=(None,))\n",
    "encoder_embedding_layer = Embedding(len(vocab), THOUGHT_VECTOR_SIZE)\n",
    "encoder_gru_layer = GRU(THOUGHT_VECTOR_SIZE, return_state=True)\n",
    "\n",
    "decoder_input_layer = Input(shape=(None,))\n",
    "decoder_embedding_layer = Embedding(len(vocab), THOUGHT_VECTOR_SIZE)\n",
    "decoder_gru_layer = GRU(THOUGHT_VECTOR_SIZE, return_sequences=True)\n",
    "decoder_dense_layer = Dense(len(vocab), activation='softmax')\n",
    "\n",
    "\n",
    "#connect network\n",
    "encoder = encoder_embedding_layer(encoder_input_layer)\n",
    "encoder, encoder_state = encoder_gru_layer(encoder)\n",
    "\n",
    "decoder = decoder_embedding_layer(decoder_input_layer)\n",
    "decoder = decoder_gru_layer(decoder, initial_state=encoder_state)\n",
    "decoder = decoder_dense_layer(decoder)\n",
    "\n",
    "\n",
    "batch_size = 8\n",
    "model = Model([encoder_input_layer, decoder_input_layer], decoder)\n",
    "model.compile(optimizer='rmsprop', loss='categorical_crossentropy')\n",
    "model.fit_generator(generateData(batch_size=batch_size), steps_per_epoch=len(decoder_input_data)//batch_size, epochs=5)\n",
    "\n",
    "# model.fit([encoder_input_data, decoder_input_data], decoder_target_one_hot,\n",
    "#           batch_size=32,\n",
    "#           epochs=10,\n",
    "#           validation_split=0.2)\n",
    "\n",
    "network_config = {\n",
    "    'vocab_size': len(vocab),\n",
    "    'thought_vector_size': THOUGHT_VECTOR_SIZE,\n",
    "    'sequence_length': encoder_input_data.shape[1],\n",
    "    'weights': {\n",
    "        'encoder_embedding': encoder_embedding_layer.get_weights(),\n",
    "        'encoder_gru': encoder_gru_layer.get_weights(),\n",
    "        'decoder_embedding': decoder_embedding_layer.get_weights(),\n",
    "        'decoder_gru': decoder_gru_layer.get_weights(),\n",
    "        'decoder_dense': decoder_dense_layer.get_weights()        \n",
    "    }\n",
    "}\n",
    "\n",
    "with open('network_config.pickle', 'wb') as file:\n",
    "    pickle.dump(network_config, file)\n",
    "\n",
    "print('saved network config to \"{}\". Vocab size: {}. Thought vector size: {}. Sequence length: {}.'\n",
    "    .format(\n",
    "        'network_config.pickle', \n",
    "        network_config['vocab_size'], \n",
    "        network_config['thought_vector_size'], \n",
    "        network_config['sequence_length']\n",
    "    )\n",
    ")  "
   ]
  },
  {
   "cell_type": "code",
   "execution_count": 4,
   "metadata": {},
   "outputs": [
    {
     "name": "stdout",
     "output_type": "stream",
     "text": [
      "finished creating models\n"
     ]
    }
   ],
   "source": [
    "################################################\n",
    "############## inference models ################\n",
    "################################################\n",
    "import numpy as np\n",
    "from keras.models import Model\n",
    "from keras.layers import Input, GRU, Dense, Embedding\n",
    "import pickle\n",
    "\n",
    "with open('network_config.pickle', 'rb') as file:\n",
    "    config = pickle.load(file)\n",
    "    \n",
    "#Encoder\n",
    "encoder_input_layer = Input(shape=(None,))\n",
    "encoder_embedding_layer = Embedding(config['vocab_size'], config['thought_vector_size'])\n",
    "encoder_gru_layer = GRU(config['thought_vector_size'], return_state=True)\n",
    "\n",
    "encoder = encoder_embedding_layer(encoder_input_layer)\n",
    "encoder, encoder_state = encoder_gru_layer(encoder)\n",
    "\n",
    "encoder_model = Model([encoder_input_layer], encoder_state)\n",
    "encoder_model.compile(optimizer='rmsprop', loss='categorical_crossentropy')\n",
    "encoder_embedding_layer.set_weights(config['weights']['encoder_embedding'])\n",
    "encoder_gru_layer.set_weights(config['weights']['encoder_gru'])\n",
    "\n",
    "#Decoder\n",
    "decoder_input_layer = Input(shape=(None,))\n",
    "decoder_thought_vector_input_layer = Input(shape=(config['thought_vector_size'],))\n",
    "decoder_embedding_layer = Embedding(config['vocab_size'], config['thought_vector_size'])\n",
    "decoder_gru_layer = GRU(config['thought_vector_size'], return_sequences=True, return_state=True)\n",
    "decoder_dense_layer = Dense(config['vocab_size'], activation='softmax')\n",
    "\n",
    "decoder = decoder_embedding_layer(decoder_input_layer)\n",
    "decoder, decoder_state = decoder_gru_layer(decoder, initial_state=decoder_thought_vector_input_layer)\n",
    "decoder = decoder_dense_layer(decoder)\n",
    "\n",
    "decoder_model = Model([decoder_input_layer, decoder_thought_vector_input_layer], [decoder, decoder_state])\n",
    "decoder_model.compile(optimizer='rmsprop', loss='categorical_crossentropy')\n",
    "decoder_embedding_layer.set_weights(config['weights']['decoder_embedding'])\n",
    "decoder_gru_layer.set_weights(config['weights']['decoder_gru'])\n",
    "decoder_dense_layer.set_weights(config['weights']['decoder_dense'])\n",
    "\n",
    "print('finished creating models')"
   ]
  },
  {
   "cell_type": "code",
   "execution_count": 13,
   "metadata": {},
   "outputs": [
    {
     "data": {
      "text/plain": [
       "' what is the matter ? i am not a lot .'"
      ]
     },
     "execution_count": 13,
     "metadata": {},
     "output_type": "execute_result"
    }
   ],
   "source": [
    "vocab = get_vocab()\n",
    "vocab_list = list(vocab.keys())\n",
    "\n",
    "def reply(input_str):\n",
    "    tokens = tokenize(input_str)\n",
    "    #TODO: doesn't support words not in the vocabulary\n",
    "    encoded_tokens = [vocab[token] for token in tokenize(input_str)]\n",
    "    encoded_tokens += [0] * (config['sequence_length'] - len(encoded_tokens))\n",
    "    \n",
    "    # Encode the input as state vectors.\n",
    "    decoder_state = encoder_model.predict(np.array([encoded_tokens]))\n",
    "        \n",
    "    # Populate the first character of target sequence with a 0 (end of string). Should maybe use something else for this\n",
    "    last_token = np.array([[0]])\n",
    "    \n",
    "    # Sampling loop for a batch of sequences\n",
    "    # (to simplify, here we assume a batch of size 1).\n",
    "    stop_condition = False\n",
    "    decoded_sentence = ''\n",
    "    while not stop_condition:\n",
    "        predicted_token_one_hot, decoder_state = decoder_model.predict([last_token, decoder_state])\n",
    "\n",
    "        # Sample a token\n",
    "        predicted_token_index = np.argmax(predicted_token_one_hot[0, 0])\n",
    "        predicted_word = vocab_list[predicted_token_index]\n",
    "\n",
    "        # Exit condition: either hit max length\n",
    "        # or find stop character.\n",
    "        if predicted_word == 'end of string':\n",
    "            stop_condition = True\n",
    "        else:\n",
    "            decoded_sentence += ' ' + predicted_word\n",
    "            \n",
    "        if len(decoded_sentence) >= config['sequence_length']:\n",
    "            stop_condition = True\n",
    "            \n",
    "        last_token = np.array([[predicted_token_index]])\n",
    "\n",
    "    return decoded_sentence\n",
    "\n",
    "reply('is there an airport in your area ?')"
   ]
  }
 ],
 "metadata": {
  "kernelspec": {
   "display_name": "Python 3",
   "language": "python",
   "name": "python3"
  },
  "language_info": {
   "codemirror_mode": {
    "name": "ipython",
    "version": 3
   },
   "file_extension": ".py",
   "mimetype": "text/x-python",
   "name": "python",
   "nbconvert_exporter": "python",
   "pygments_lexer": "ipython3",
   "version": "3.6.4"
  }
 },
 "nbformat": 4,
 "nbformat_minor": 2
}
